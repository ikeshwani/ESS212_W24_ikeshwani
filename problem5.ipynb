{
 "cells": [
  {
   "cell_type": "code",
   "execution_count": 72,
   "metadata": {},
   "outputs": [],
   "source": [
    "import sympy\n",
    "import numpy as np"
   ]
  },
  {
   "cell_type": "code",
   "execution_count": 73,
   "metadata": {},
   "outputs": [],
   "source": [
    "#problem 5: function to evaluate Sn\n",
    "\n",
    "def geometric_sum(n,r) :\n",
    "    if r == 1:\n",
    "        return np.nan\n",
    "    else:\n",
    "        a = sympy.symbols('a')\n",
    "        return (a*(1-r**n))/(1-r)"
   ]
  },
  {
   "cell_type": "code",
   "execution_count": 74,
   "metadata": {},
   "outputs": [
    {
     "data": {
      "text/plain": [
       "nan"
      ]
     },
     "execution_count": 74,
     "metadata": {},
     "output_type": "execute_result"
    }
   ],
   "source": [
    "#checking that nan is returned for one\n",
    "geometric_sum(3,1)"
   ]
  },
  {
   "cell_type": "code",
   "execution_count": 63,
   "metadata": {},
   "outputs": [],
   "source": [
    "#conducting a series of tests using unittest\n",
    "\n",
    "import unittest\n",
    "a = sympy.symbols('a')"
   ]
  },
  {
   "cell_type": "code",
   "execution_count": 90,
   "metadata": {},
   "outputs": [],
   "source": [
    "#function to demonstrate that my function geometric_sum works correctly\n",
    "\n",
    "def TestGeoSum():\n",
    "    assert(geometric_sum(1,-1) == a) #test case where r < 0\n",
    "    assert(geometric_sum(2,-5) == -4*a)  #another test case where r<0\n",
    "    assert(geometric_sum(1,0) == a) #test case where r = 0\n",
    "    assert(geometric_sum(3,0) == a) #another test case where r = 0\n",
    "    assert(geometric_sum(2, 0.5) == 1.5*a) #test case where 0<r<1\n",
    "    assert(geometric_sum(3,0.5) == 1.75*a) #another test case where 0<r<1\n",
    "    assert(np.isnan(geometric_sum(2,1))) #test case where r=1\n",
    "    assert(np.isnan(geometric_sum(5,1)))\n",
    "    assert(geometric_sum(2,4) == 5*a) #test case where r>1\n",
    "    assert(geometric_sum(4,10) == 1111*a) #another case where r>1\n"
   ]
  },
  {
   "cell_type": "code",
   "execution_count": 91,
   "metadata": {},
   "outputs": [],
   "source": [
    "TestGeoSum() #since no assertion error was given, this implies all the above tests are true"
   ]
  },
  {
   "cell_type": "code",
   "execution_count": null,
   "metadata": {},
   "outputs": [],
   "source": []
  }
 ],
 "metadata": {
  "kernelspec": {
   "display_name": "Python 3",
   "language": "python",
   "name": "python3"
  },
  "language_info": {
   "codemirror_mode": {
    "name": "ipython",
    "version": 3
   },
   "file_extension": ".py",
   "mimetype": "text/x-python",
   "name": "python",
   "nbconvert_exporter": "python",
   "pygments_lexer": "ipython3",
   "version": "3.11.5"
  }
 },
 "nbformat": 4,
 "nbformat_minor": 2
}
