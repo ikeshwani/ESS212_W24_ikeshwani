{
 "cells": [
  {
   "cell_type": "code",
   "execution_count": 1,
   "id": "c91d361a",
   "metadata": {},
   "outputs": [],
   "source": [
    "import numpy as np\n",
    "from scipy.optimize import newton_krylov"
   ]
  },
  {
   "cell_type": "code",
   "execution_count": 2,
   "id": "b150288e",
   "metadata": {},
   "outputs": [],
   "source": [
    "x1 = -4\n",
    "y1 = 30\n",
    "x2 = 0\n",
    "y2 = 2\n",
    "x3 = 4\n",
    "y3 = 6"
   ]
  },
  {
   "cell_type": "code",
   "execution_count": 3,
   "id": "867d81be",
   "metadata": {},
   "outputs": [
    {
     "data": {
      "text/plain": [
       "array([[16,  0, 16],\n",
       "       [-4,  0,  4],\n",
       "       [ 1,  1,  1]])"
      ]
     },
     "execution_count": 3,
     "metadata": {},
     "output_type": "execute_result"
    }
   ],
   "source": [
    "d = np.array([y1, y2, y3])\n",
    "a = np.array([x1**2, x2**2, x3**2])\n",
    "b = np.array([x1, x2, x3])\n",
    "c = np.array([1, 1, 1])\n",
    "\n",
    "Aprime = np.array([a, b, c]) #because of vector notation here I'm calling this array A'\n",
    "\n",
    "Aprime"
   ]
  },
  {
   "cell_type": "markdown",
   "id": "d2d60d5b",
   "metadata": {},
   "source": [
    "## Projection of d, data vector onto model\n",
    "\n",
    "Model has the form $ y_i = \\alpha(x_i)^2 + \\beta(x_i) + \\gamma + e_i $ for $i = 1,2,3\n",
    "$\n",
    "\n",
    "$\\vec{a} = \\begin{pmatrix} x_1^2 \\\\ x_2^2 \\\\ x_3^2 \\end{pmatrix}$      $\\vec{b} = \\begin{pmatrix} x_1 \\\\ x_2 \\\\ x_3 \\end{pmatrix}$   $\\vec{c} = \\begin{pmatrix} 1 \\\\ 1 \\\\ 1 \\end{pmatrix}$\n",
    "\n",
    "where $\\vec{e}$ is an error matrix\n",
    "\n",
    "first, project $\\vec{d}$ onto model to solve for coefficients $\\alpha ,\\beta, \\gamma$ held in the vector $\\vec{x} = \\begin{pmatrix} \\alpha \\\\ \\beta \\\\ \\gamma \\end{pmatrix}$\n",
    "\n",
    "$\\vec{x} = (AA')^{-1} \\cdot A' \\cdot \\vec{d}$\n",
    "\n"
   ]
  },
  {
   "cell_type": "code",
   "execution_count": 4,
   "id": "2ae1be5a",
   "metadata": {},
   "outputs": [],
   "source": [
    "#projection of d onto a to solve for a, b, c\n",
    "\n",
    "A = np.transpose(Aprime) #the way A matrix was initialized made it really A transpose\n",
    "#this will return A by taking the transpose of A'\n",
    "\n",
    "dot = Aprime @ d #this returns a vector with three elements (3x1)\n",
    "\n",
    "AA = Aprime @ A #this returns a 3x3 matrix\n",
    "\n",
    "inverse = np.linalg.inv(AA) #returns the inverse of A times A' matrix also a 3x3 matrix\n",
    "\n",
    "x = inverse @ dot #returns a vector with three elements 3x1\n"
   ]
  },
  {
   "cell_type": "code",
   "execution_count": 5,
   "id": "afa1513c",
   "metadata": {},
   "outputs": [],
   "source": [
    "alpha = x[0]\n",
    "beta = x[1]\n",
    "gamma = x[2]"
   ]
  },
  {
   "cell_type": "code",
   "execution_count": 6,
   "id": "e73d07d6",
   "metadata": {},
   "outputs": [
    {
     "name": "stdout",
     "output_type": "stream",
     "text": [
      "alpha is: 1.0 beta is : -3.0 gamma is : 2.0\n"
     ]
    }
   ],
   "source": [
    "print('alpha is:', alpha, \n",
    "      'beta is :', beta, \n",
    "      'gamma is :',gamma)"
   ]
  },
  {
   "cell_type": "markdown",
   "id": "f5c9af24",
   "metadata": {},
   "source": [
    "The resulting values for $\\alpha, \\beta, \\gamma$ are consistent with the values a,b,c from part a, where we solved the system of equations by hand "
   ]
  },
  {
   "cell_type": "markdown",
   "id": "0b9ee3eb",
   "metadata": {},
   "source": [
    "## solving for $\\vec{e}$ error vector\n",
    "\n",
    "$\\vec{e} = \\vec{d} - P \\vec{d}$\n",
    "\n",
    "where $P = A (A'A)^{-1} A' $"
   ]
  },
  {
   "cell_type": "code",
   "execution_count": 8,
   "id": "1654ca58",
   "metadata": {},
   "outputs": [],
   "source": [
    "P = A @ inverse @ Aprime"
   ]
  },
  {
   "cell_type": "code",
   "execution_count": 9,
   "id": "a9053772",
   "metadata": {},
   "outputs": [],
   "source": [
    "e = d - P @ d"
   ]
  },
  {
   "cell_type": "code",
   "execution_count": 10,
   "id": "a61f18eb",
   "metadata": {},
   "outputs": [
    {
     "data": {
      "text/plain": [
       "array([0., 0., 0.])"
      ]
     },
     "execution_count": 10,
     "metadata": {},
     "output_type": "execute_result"
    }
   ],
   "source": [
    "e"
   ]
  },
  {
   "cell_type": "markdown",
   "id": "03af1c07",
   "metadata": {},
   "source": [
    "the error vector is $\\vec{e} = \\begin{pmatrix} 0 \\\\ 0 \\\\ 0 \\end{pmatrix}$"
   ]
  },
  {
   "cell_type": "markdown",
   "id": "616dcdc7",
   "metadata": {},
   "source": [
    "### suppose $y_i = A(x_i - B)(x_i -C)$ for $i = 1,2,3$\n",
    "\n",
    "Write a system of nonlinear equations for unknowns A,B,C\n",
    "\n",
    "$ 30 = A(-4-B)(-4-C) $      \n",
    "$ 2 = ABC $         \n",
    "$ 6 = A(4-B)(4-C) $\n",
    "\n",
    "\n",
    "Solve the resulting system of equations using Newton's Method\n",
    "Use A=1, B=2, C=3 as the initial state\n",
    "\n"
   ]
  },
  {
   "cell_type": "code",
   "execution_count": 11,
   "id": "f81a05a0",
   "metadata": {},
   "outputs": [],
   "source": [
    "#define array for the system of equations F(x)\n",
    "\n",
    "def F(x):\n",
    "    A, B, C = x\n",
    "    return np.array([A * (-4-B) * (-4-C) - 30, \n",
    "                    A * B * C - 2, \n",
    "                    A * (4-B) * (4-C) - 6])\n",
    "\n",
    "#define the jacobian matrix of F(x)\n",
    "\n",
    "def Jac(x):\n",
    "    A, B, C = x\n",
    "    return np.array([\n",
    "        [(-4-B)*(-4-C), A*(C+4), A*(B+4)],\n",
    "        [B*C, -A*C, -A*B], \n",
    "        [(4-B)*(4-C), A*(C-4), A*(B-4)]\n",
    "        ])\n",
    "\n",
    "#define initial guess for the solution\n",
    "A=1\n",
    "B=2\n",
    "C=3\n",
    "\n",
    "x0 = np.array([A,B,C])"
   ]
  },
  {
   "cell_type": "code",
   "execution_count": 15,
   "id": "e60b3985",
   "metadata": {},
   "outputs": [],
   "source": [
    "#using Newton's Method, find the solution\n",
    "\n",
    "def newton(f, Df, x0, epsilon=1e-6, max_iter = 100):\n",
    "    xn = x0\n",
    "    for n in range(0,max_iter):\n",
    "        fxn = f(xn)\n",
    "        if abs(fxn) < epsilon:\n",
    "            print('Found solution after', n, 'iterations.')\n",
    "            return xn\n",
    "        Dfxn = Df(xn)\n",
    "        if Dfsn == 0:\n",
    "            print('Zero derivative. No solution found.')\n",
    "            return None\n",
    "        xn = xn - fxn/Dfxn\n",
    "    print('Exceeded maximum iterations. No solution found.')\n",
    "    return None\n",
    "\n"
   ]
  },
  {
   "cell_type": "code",
   "execution_count": 16,
   "id": "be48d7e3",
   "metadata": {
    "scrolled": false
   },
   "outputs": [
    {
     "ename": "ValueError",
     "evalue": "The truth value of an array with more than one element is ambiguous. Use a.any() or a.all()",
     "output_type": "error",
     "traceback": [
      "\u001b[0;31m---------------------------------------------------------------------------\u001b[0m",
      "\u001b[0;31mValueError\u001b[0m                                Traceback (most recent call last)",
      "Cell \u001b[0;32mIn[16], line 1\u001b[0m\n\u001b[0;32m----> 1\u001b[0m solution \u001b[38;5;241m=\u001b[39m newton(F, Jac, x0, epsilon\u001b[38;5;241m=\u001b[39m\u001b[38;5;241m1e-6\u001b[39m, max_iter\u001b[38;5;241m=\u001b[39m\u001b[38;5;241m100\u001b[39m)\n",
      "Cell \u001b[0;32mIn[15], line 7\u001b[0m, in \u001b[0;36mnewton\u001b[0;34m(f, Df, x0, epsilon, max_iter)\u001b[0m\n\u001b[1;32m      5\u001b[0m \u001b[38;5;28;01mfor\u001b[39;00m n \u001b[38;5;129;01min\u001b[39;00m \u001b[38;5;28mrange\u001b[39m(\u001b[38;5;241m0\u001b[39m,max_iter):\n\u001b[1;32m      6\u001b[0m     fxn \u001b[38;5;241m=\u001b[39m f(xn)\n\u001b[0;32m----> 7\u001b[0m     \u001b[38;5;28;01mif\u001b[39;00m \u001b[38;5;28mabs\u001b[39m(fxn) \u001b[38;5;241m<\u001b[39m epsilon:\n\u001b[1;32m      8\u001b[0m         \u001b[38;5;28mprint\u001b[39m(\u001b[38;5;124m'\u001b[39m\u001b[38;5;124mFound solution after\u001b[39m\u001b[38;5;124m'\u001b[39m, n, \u001b[38;5;124m'\u001b[39m\u001b[38;5;124miterations.\u001b[39m\u001b[38;5;124m'\u001b[39m)\n\u001b[1;32m      9\u001b[0m         \u001b[38;5;28;01mreturn\u001b[39;00m xn\n",
      "\u001b[0;31mValueError\u001b[0m: The truth value of an array with more than one element is ambiguous. Use a.any() or a.all()"
     ]
    }
   ],
   "source": [
    "solution = newton(F, Jac, x0, epsilon=1e-6, max_iter=100)"
   ]
  },
  {
   "cell_type": "markdown",
   "id": "8a0f445a",
   "metadata": {},
   "source": []
  },
  {
   "cell_type": "code",
   "execution_count": null,
   "id": "b8d3c5ac",
   "metadata": {},
   "outputs": [],
   "source": []
  }
 ],
 "metadata": {
  "kernelspec": {
   "display_name": "Python 3 (ipykernel)",
   "language": "python",
   "name": "python3"
  },
  "language_info": {
   "codemirror_mode": {
    "name": "ipython",
    "version": 3
   },
   "file_extension": ".py",
   "mimetype": "text/x-python",
   "name": "python",
   "nbconvert_exporter": "python",
   "pygments_lexer": "ipython3",
   "version": "3.11.5"
  }
 },
 "nbformat": 4,
 "nbformat_minor": 5
}
