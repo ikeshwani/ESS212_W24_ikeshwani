{
 "cells": [
  {
   "cell_type": "code",
   "execution_count": 3,
   "id": "c91d361a",
   "metadata": {},
   "outputs": [],
   "source": [
    "import numpy as np\n",
    "import matplotlib.pyplot as plt"
   ]
  },
  {
   "cell_type": "code",
   "execution_count": 4,
   "id": "b150288e",
   "metadata": {},
   "outputs": [],
   "source": [
    "x1 = -4\n",
    "y1 = 30\n",
    "x2 = 0\n",
    "y2 = 2\n",
    "x3 = 4\n",
    "y3 = 6"
   ]
  },
  {
   "cell_type": "code",
   "execution_count": 5,
   "id": "867d81be",
   "metadata": {},
   "outputs": [
    {
     "data": {
      "text/plain": [
       "array([[16,  0, 16],\n",
       "       [-4,  0,  4],\n",
       "       [ 1,  1,  1]])"
      ]
     },
     "execution_count": 5,
     "metadata": {},
     "output_type": "execute_result"
    }
   ],
   "source": [
    "d = np.array([y1, y2, y3])\n",
    "a = np.array([x1**2, x2**2, x3**2])\n",
    "b = np.array([x1, x2, x3])\n",
    "c = np.array([1, 1, 1])\n",
    "\n",
    "A = np.array([a, b, c]) #because of vector notation here I'm calling this array A'\n",
    "\n",
    "A"
   ]
  },
  {
   "cell_type": "markdown",
   "id": "d2d60d5b",
   "metadata": {},
   "source": [
    "## Projection of d, data vector onto model\n",
    "\n",
    "Model has the form $ y_i = \\alpha(x_i)^2 + \\beta(x_i) + \\gamma + e_i $ for $i = 1,2,3\n",
    "$\n",
    "\n",
    "$\\vec{a} = \\begin{pmatrix} x_1^2 \\\\ x_2^2 \\\\ x_3^2 \\end{pmatrix}$      $\\vec{b} = \\begin{pmatrix} x_1 \\\\ x_2 \\\\ x_3 \\end{pmatrix}$   $\\vec{c} = \\begin{pmatrix} 1 \\\\ 1 \\\\ 1 \\end{pmatrix}$\n",
    "\n",
    "where $\\vec{e}$ is an error matrix\n",
    "\n",
    "first, project $\\vec{d}$ onto model to solve for coefficients $\\alpha ,\\beta, \\gamma$ held in the vector $\\vec{x} = \\begin{pmatrix} \\alpha \\\\ \\beta \\\\ \\gamma \\end{pmatrix}$\n",
    "\n",
    "$\\vec{x} = (AA')^{-1} \\cdot A' \\cdot \\vec{d}$\n",
    "\n"
   ]
  },
  {
   "cell_type": "code",
   "execution_count": 6,
   "id": "2ae1be5a",
   "metadata": {},
   "outputs": [],
   "source": [
    "#projection of d onto a to solve for a, b, c\n",
    "\n",
    "Aprime = np.transpose(A) #the way A matrix was initialized made it really A transpose\n",
    "#this will return A by taking the transpose of A'\n",
    "\n",
    "dot = d @ Aprime #this returns a vector with three elements (3x1)\n",
    "\n",
    "AA = A @ Aprime #this returns a 3x3 matrix\n",
    "\n",
    "inverse = np.linalg.inv(AA) #returns the inverse of A times A' matrix also a 3x3 matrix\n",
    "\n",
    "x = inverse @ dot #returns a vector with three elements 3x1\n"
   ]
  },
  {
   "cell_type": "code",
   "execution_count": 7,
   "id": "afa1513c",
   "metadata": {},
   "outputs": [],
   "source": [
    "alpha = x[0]\n",
    "beta = x[1]\n",
    "gamma = x[2]"
   ]
  },
  {
   "cell_type": "code",
   "execution_count": 8,
   "id": "e73d07d6",
   "metadata": {},
   "outputs": [
    {
     "name": "stdout",
     "output_type": "stream",
     "text": [
      "alpha is: 1.0 beta is : -3.0 gamma is : 2.0\n"
     ]
    }
   ],
   "source": [
    "print('alpha is:', alpha, \n",
    "      'beta is :', beta, \n",
    "      'gamma is :',gamma)"
   ]
  },
  {
   "cell_type": "markdown",
   "id": "f5c9af24",
   "metadata": {},
   "source": [
    "The resulting values for $\\alpha, \\beta, \\gamma$ are consistent with the values a,b,c from part a, where we solved the system of equations by hand "
   ]
  },
  {
   "cell_type": "markdown",
   "id": "0b9ee3eb",
   "metadata": {},
   "source": [
    "## solving for $\\vec{e}$ error vector\n",
    "\n",
    "$\\vec{e} = \\vec{d} - P \\vec{d}$\n",
    "\n",
    "where $P = A (A'A)^{-1} A' $"
   ]
  },
  {
   "cell_type": "code",
   "execution_count": 9,
   "id": "1654ca58",
   "metadata": {},
   "outputs": [],
   "source": [
    "P = inverse @ A @ Aprime"
   ]
  },
  {
   "cell_type": "code",
   "execution_count": 10,
   "id": "a9053772",
   "metadata": {},
   "outputs": [],
   "source": [
    "e = d - P @ d"
   ]
  },
  {
   "cell_type": "code",
   "execution_count": 11,
   "id": "a61f18eb",
   "metadata": {},
   "outputs": [
    {
     "data": {
      "text/plain": [
       "array([0., 0., 0.])"
      ]
     },
     "execution_count": 11,
     "metadata": {},
     "output_type": "execute_result"
    }
   ],
   "source": [
    "e"
   ]
  },
  {
   "cell_type": "markdown",
   "id": "03af1c07",
   "metadata": {},
   "source": [
    "the error vector is $\\vec{e} = \\begin{pmatrix} 0 \\\\ 0 \\\\ 0 \\end{pmatrix}$"
   ]
  },
  {
   "cell_type": "markdown",
   "id": "616dcdc7",
   "metadata": {},
   "source": [
    "### suppose $y_i = A(x_i - B)(x_i -C)$ for $i = 1,2,3$\n",
    "\n",
    "Write a system of nonlinear equations for unknowns A,B,C\n",
    "\n",
    "$ 30 = A(-4-B)(-4-C) $      \n",
    "$ 2 = ABC $         \n",
    "$ 6 = A(4-B)(4-C) $\n",
    "\n",
    "When the equations are put into the form $y_i = \\alpha x_{i}^2 + \\beta x_{i} + \\gamma $\n",
    "This makes $ \\alpha = A $, $\\beta = A(-C-B)$, and $\\gamma=ABC$\n",
    "\n",
    "Previously in the code, I referred to a,b,c from the homework to $\\alpha, \\beta, \\gamma$ and will continue to in my code. \n",
    "\n",
    "\n",
    "Solve the resulting system of equations using Newton's Method\n",
    "Use A=1, B=2, C=3 as the initial state\n",
    "\n",
    "The goal is to iterate until the solution converges to our previously found values of $\\alpha, \\beta, \\gamma$\n",
    "\n"
   ]
  },
  {
   "cell_type": "code",
   "execution_count": 12,
   "id": "f81a05a0",
   "metadata": {},
   "outputs": [],
   "source": [
    "#define array for the system of equations F(x)\n",
    "\n",
    "\n",
    "def F(beta, x, y):\n",
    "    A, B, C = beta\n",
    "    x1, x2, x3 = x\n",
    "    y1, y2, y3 = y\n",
    "    return np.array([A * (x1-B) * (x1-C) - y1, \n",
    "                    A * (x2-B) * (x2-C) - y2, \n",
    "                    A * (x3-B) * (x3-C) - y3])\n",
    "\n",
    "#define the jacobian matrix of F(x)\n",
    "\n",
    "def J(beta, x):\n",
    "    A, B, C = beta\n",
    "    x1, x2, x3 = x\n",
    "    return np.array([\n",
    "        [(x1-B)*(x1-C), -A*(x1-C), -A*(x1-B)],\n",
    "        [(x2-B)*(x2-C), -A*(x2-C), -A*(x2-B)], \n",
    "        [(x3-B)*(x3-C), -A*(x3-C), -A*(x3-B)]\n",
    "        ])\n",
    "\n",
    "#define initial guess for the solution\n",
    "A=1\n",
    "B=2\n",
    "C=3\n",
    "\n",
    "x1=-4\n",
    "x2=0\n",
    "x3=4\n",
    "\n",
    "y1= 30\n",
    "y2=2\n",
    "y3=6\n",
    "\n",
    "beta0 = np.array([A, B, C])\n",
    "\n",
    "x_vec = np.array([x1, x2, x3])\n",
    "\n",
    "y_vec = np.array([y1,y2,y3])\n",
    "\n",
    "#define the inverse jacobian\n",
    "def J_inverse(beta, x):\n",
    "    return np.linalg.inv(J(beta, x))"
   ]
  },
  {
   "cell_type": "code",
   "execution_count": 13,
   "id": "b65c36fd",
   "metadata": {
    "scrolled": true
   },
   "outputs": [
    {
     "data": {
      "text/plain": [
       "array([[42,  7,  6],\n",
       "       [ 6,  3,  2],\n",
       "       [ 2, -1, -2]])"
      ]
     },
     "execution_count": 13,
     "metadata": {},
     "output_type": "execute_result"
    }
   ],
   "source": [
    "#checking that this works\n",
    "J(beta0,x_vec)"
   ]
  },
  {
   "cell_type": "code",
   "execution_count": 14,
   "id": "161d156b",
   "metadata": {},
   "outputs": [
    {
     "data": {
      "text/plain": [
       "array([[ 0.03125, -0.0625 ,  0.03125],\n",
       "       [-0.125  ,  0.75   ,  0.375  ],\n",
       "       [ 0.09375, -0.4375 , -0.65625]])"
      ]
     },
     "execution_count": 14,
     "metadata": {},
     "output_type": "execute_result"
    }
   ],
   "source": [
    "#checking that this works too\n",
    "J_inverse(beta0, x_vec)"
   ]
  },
  {
   "cell_type": "code",
   "execution_count": 15,
   "id": "af6309a3",
   "metadata": {},
   "outputs": [
    {
     "data": {
      "text/plain": [
       "array([1., 2., 1.])"
      ]
     },
     "execution_count": 15,
     "metadata": {},
     "output_type": "execute_result"
    }
   ],
   "source": [
    "beta1 = beta0 - np.dot(J_inverse(beta0, x_vec), F(beta0, x_vec, y_vec))\n",
    "beta1"
   ]
  },
  {
   "cell_type": "code",
   "execution_count": 16,
   "id": "e60b3985",
   "metadata": {},
   "outputs": [],
   "source": [
    "#using Newton's Method, find the solution\n",
    "\n",
    "def iterate_beta(beta, x, y):\n",
    "    inverse_jacobian = np.linalg.inv(J(beta, x))\n",
    "    return (beta - inverse_jacobian @ F(beta, x, y))\n",
    "\n",
    "def newton_method(beta, x, y, max_iter=100):\n",
    "    for i in range(max_iter):\n",
    "        beta = iterate_beta(beta, x, y)\n",
    "    return beta        \n",
    "        \n",
    "def another_newton_meth(beta, x, y, max_iter=100):\n",
    "    beta1 = iterate_beta(beta, x, y)\n",
    "    if (np.allclose(beta1, beta)):\n",
    "        return beta\n",
    "    else:\n",
    "        return another_newton_meth(beta1, x, y)\n",
    "\n"
   ]
  },
  {
   "cell_type": "code",
   "execution_count": 17,
   "id": "70a42989",
   "metadata": {},
   "outputs": [
    {
     "data": {
      "text/plain": [
       "array([1., 2., 1.])"
      ]
     },
     "execution_count": 17,
     "metadata": {},
     "output_type": "execute_result"
    }
   ],
   "source": [
    "iterate_beta(beta0, x_vec, y_vec)\n",
    "\n",
    "beta_i = newton_method(beta0, x_vec, y_vec)\n",
    "beta_i"
   ]
  },
  {
   "cell_type": "code",
   "execution_count": 18,
   "id": "2e17ba7b",
   "metadata": {},
   "outputs": [],
   "source": [
    "a_scalar = beta_i[0]\n",
    "b_scalar = beta_i[0]*(-beta_i[2]-beta_i[1])\n",
    "c_scalar = beta_i[0]*beta_i[1]*beta_i[2]"
   ]
  },
  {
   "cell_type": "code",
   "execution_count": 19,
   "id": "59251c95",
   "metadata": {},
   "outputs": [
    {
     "name": "stdout",
     "output_type": "stream",
     "text": [
      "1.0 -3.0 2.0\n"
     ]
    }
   ],
   "source": [
    "print(a_scalar,b_scalar,c_scalar)"
   ]
  },
  {
   "cell_type": "markdown",
   "id": "464fdff8",
   "metadata": {},
   "source": [
    "## YAY! Newton's method returns the values for $\\alpha = 1, \\beta = -3, \\gamma = 2$ that we expected!\n",
    "\n",
    "I wrote another method for newton's method, I noticed that when I started at different values for the zeroth iteration, the two methods tended to converge at another value. [1,1,2] I want to see if they give us the same expected values for $\\alpha, \\beta, \\gamma$"
   ]
  },
  {
   "cell_type": "code",
   "execution_count": 20,
   "id": "56abb825",
   "metadata": {},
   "outputs": [
    {
     "name": "stdout",
     "output_type": "stream",
     "text": [
      "[1. 1. 2.] [1.        0.9999901 2.0000099]\n",
      "The values for a, b, c from newton's method one, using a new zeroth iteration beta [13,7,8] is: 1.0 -3.0 2.0\n",
      "The values for a, b, c from newton's method two, using a new zeroth iteration beta [13,7,8] is: 1.0 -3.0 1.9999901001380456\n"
     ]
    }
   ],
   "source": [
    "some_beta = np.array([13,7,8])\n",
    "iterate_beta(some_beta, x_vec, y_vec)\n",
    "beta_1 = newton_method(some_beta, x_vec, y_vec)\n",
    "beta_2 = another_newton_meth(some_beta, x_vec, y_vec)\n",
    "\n",
    "print(beta_1, beta_2)\n",
    "\n",
    "a_scalar_1 = beta_1[0]\n",
    "b_scalar_1 = beta_1[0]*(-beta_1[2]-beta_1[1])\n",
    "c_scalar_1 = beta_1[0]*beta_1[1]*beta_1[2]\n",
    "\n",
    "a_scalar_2 = beta_2[0]\n",
    "b_scalar_2 = beta_2[0]*(-beta_2[2]-beta_2[1])\n",
    "c_scalar_2 = beta_2[0]*beta_2[1]*beta_2[2]\n",
    "\n",
    "print(\"The values for a, b, c from newton's method one, using a new zeroth iteration beta [13,7,8] is:\", a_scalar_1, b_scalar_1, c_scalar_1)\n",
    "print(\"The values for a, b, c from newton's method two, using a new zeroth iteration beta [13,7,8] is:\", a_scalar_2, b_scalar_2, c_scalar_2)\n"
   ]
  },
  {
   "cell_type": "markdown",
   "id": "d15c89e6",
   "metadata": {},
   "source": [
    "### Cool! Both methods work!! And the other vector it was converging to, [1,1,2] also gives the values for a,b,c (alpha, beta, gamma) that we were expecting!! This is dope. "
   ]
  },
  {
   "cell_type": "markdown",
   "id": "8544f15c",
   "metadata": {},
   "source": [
    "## What happens if you choose A = 0 as the initial iterate? Why can you rule out A=0 as a possible value?\n",
    "\n",
    "\n",
    "When A=0, It causes the Jacobian matrix to have zeros in the second and third columns. This makes the matrix singular, and it can't be inverted. The method fails because the jacobian cannot be inverted. "
   ]
  },
  {
   "cell_type": "code",
   "execution_count": 21,
   "id": "2305350b",
   "metadata": {},
   "outputs": [
    {
     "ename": "LinAlgError",
     "evalue": "Singular matrix",
     "output_type": "error",
     "traceback": [
      "\u001b[0;31m---------------------------------------------------------------------------\u001b[0m",
      "\u001b[0;31mLinAlgError\u001b[0m                               Traceback (most recent call last)",
      "Cell \u001b[0;32mIn[21], line 2\u001b[0m\n\u001b[1;32m      1\u001b[0m beta_000 \u001b[38;5;241m=\u001b[39m [\u001b[38;5;241m0\u001b[39m, \u001b[38;5;241m2\u001b[39m, \u001b[38;5;241m3\u001b[39m]\n\u001b[0;32m----> 2\u001b[0m iterate_beta(beta_000, x_vec, y_vec)\n",
      "Cell \u001b[0;32mIn[16], line 4\u001b[0m, in \u001b[0;36miterate_beta\u001b[0;34m(beta, x, y)\u001b[0m\n\u001b[1;32m      3\u001b[0m \u001b[38;5;28;01mdef\u001b[39;00m \u001b[38;5;21miterate_beta\u001b[39m(beta, x, y):\n\u001b[0;32m----> 4\u001b[0m     inverse_jacobian \u001b[38;5;241m=\u001b[39m np\u001b[38;5;241m.\u001b[39mlinalg\u001b[38;5;241m.\u001b[39minv(J(beta, x))\n\u001b[1;32m      5\u001b[0m     \u001b[38;5;28;01mreturn\u001b[39;00m (beta \u001b[38;5;241m-\u001b[39m inverse_jacobian \u001b[38;5;241m@\u001b[39m F(beta, x, y))\n",
      "File \u001b[0;32m<__array_function__ internals>:200\u001b[0m, in \u001b[0;36minv\u001b[0;34m(*args, **kwargs)\u001b[0m\n",
      "File \u001b[0;32m~/anaconda3/lib/python3.11/site-packages/numpy/linalg/linalg.py:538\u001b[0m, in \u001b[0;36minv\u001b[0;34m(a)\u001b[0m\n\u001b[1;32m    536\u001b[0m signature \u001b[38;5;241m=\u001b[39m \u001b[38;5;124m'\u001b[39m\u001b[38;5;124mD->D\u001b[39m\u001b[38;5;124m'\u001b[39m \u001b[38;5;28;01mif\u001b[39;00m isComplexType(t) \u001b[38;5;28;01melse\u001b[39;00m \u001b[38;5;124m'\u001b[39m\u001b[38;5;124md->d\u001b[39m\u001b[38;5;124m'\u001b[39m\n\u001b[1;32m    537\u001b[0m extobj \u001b[38;5;241m=\u001b[39m get_linalg_error_extobj(_raise_linalgerror_singular)\n\u001b[0;32m--> 538\u001b[0m ainv \u001b[38;5;241m=\u001b[39m _umath_linalg\u001b[38;5;241m.\u001b[39minv(a, signature\u001b[38;5;241m=\u001b[39msignature, extobj\u001b[38;5;241m=\u001b[39mextobj)\n\u001b[1;32m    539\u001b[0m \u001b[38;5;28;01mreturn\u001b[39;00m wrap(ainv\u001b[38;5;241m.\u001b[39mastype(result_t, copy\u001b[38;5;241m=\u001b[39m\u001b[38;5;28;01mFalse\u001b[39;00m))\n",
      "File \u001b[0;32m~/anaconda3/lib/python3.11/site-packages/numpy/linalg/linalg.py:89\u001b[0m, in \u001b[0;36m_raise_linalgerror_singular\u001b[0;34m(err, flag)\u001b[0m\n\u001b[1;32m     88\u001b[0m \u001b[38;5;28;01mdef\u001b[39;00m \u001b[38;5;21m_raise_linalgerror_singular\u001b[39m(err, flag):\n\u001b[0;32m---> 89\u001b[0m     \u001b[38;5;28;01mraise\u001b[39;00m LinAlgError(\u001b[38;5;124m\"\u001b[39m\u001b[38;5;124mSingular matrix\u001b[39m\u001b[38;5;124m\"\u001b[39m)\n",
      "\u001b[0;31mLinAlgError\u001b[0m: Singular matrix"
     ]
    }
   ],
   "source": [
    "beta_000 = [0, 2, 3]\n",
    "iterate_beta(beta_000, x_vec, y_vec)\n"
   ]
  },
  {
   "cell_type": "markdown",
   "id": "90e65d1f",
   "metadata": {},
   "source": [
    "### Make a plot that shoes the points in the B,C plane for which Newton's method converges when the given points are used with A=1 as initial iterate"
   ]
  },
  {
   "cell_type": "code",
   "execution_count": 22,
   "id": "8067db8a",
   "metadata": {},
   "outputs": [],
   "source": [
    "def iterate_beta(beta, x, y):\n",
    "    inverse_jacobian = np.linalg.inv(J(beta, x))\n",
    "    return (beta - inverse_jacobian @ F(beta, x, y))\n",
    "\n",
    "def newton_method(beta, x, y, max_iter=100):\n",
    "    for i in range(max_iter):\n",
    "        beta = iterate_beta(beta, x, y)\n",
    "    return beta\n",
    "\n",
    "n=20\n",
    "B_values = np.linspace(-10,10, n)\n",
    "C_values = np.linspace(-10,10,n)\n",
    "\n",
    "def iterate_beta_check(beta, x, y):\n",
    "    inverse_jacobian = np.linalg.inv(J(beta, x))\n",
    "    if np.linalg.det(inverse_jacobian) == 0:\n",
    "        return 0 \n",
    "    else:\n",
    "        return 1\n",
    "\n",
    "def newton_check(x, y, beta, tol, max_iter=100):\n",
    "    num = 0\n",
    "    for i in range(max_iter):\n",
    "        #beta = iterate_beta_check(beta, x, y)\n",
    "        num = iterate_beta_check(beta, x, y)\n",
    "    return num"
   ]
  },
  {
   "cell_type": "code",
   "execution_count": 23,
   "id": "1ef443d1",
   "metadata": {},
   "outputs": [],
   "source": [
    "#initialize array to hold values\n",
    "plot_values = np.zeros((n,n))\n",
    "\n",
    "beta_check = np.array([1, B])\n",
    "\n",
    "for i, j in enumerate(B_values):\n",
    "    for m, l in enumerate(C_values):\n",
    "        plot_values[i,m] = newton_check(x_vec, y_vec, beta=np.array([1, j, l]), tol=1e-4, max_iter=100)"
   ]
  },
  {
   "cell_type": "code",
   "execution_count": 27,
   "id": "d7602b8d",
   "metadata": {},
   "outputs": [
    {
     "data": {
      "image/png": "[encoded data removed]",
      "text/plain": [
       "<Figure size 640x480 with 1 Axes>"
      ]
     },
     "metadata": {},
     "output_type": "display_data"
    }
   ],
   "source": [
    "plt.imshow(plot_values, interpolation= 'none', extent=[-10,10,-10,10])\n",
    "plt.xlabel('B values')\n",
    "plt.ylabel('C values')\n",
    "plt.title(\"Values in the B,C plane for A=1 as initial iterate\")\n",
    "plt.show()"
   ]
  }
 ],
 "metadata": {
  "kernelspec": {
   "display_name": "Python 3 (ipykernel)",
   "language": "python",
   "name": "python3"
  },
  "language_info": {
   "codemirror_mode": {
    "name": "ipython",
    "version": 3
   },
   "file_extension": ".py",
   "mimetype": "text/x-python",
   "name": "python",
   "nbconvert_exporter": "python",
   "pygments_lexer": "ipython3",
   "version": "3.11.5"
  }
 },
 "nbformat": 4,
 "nbformat_minor": 5
}
