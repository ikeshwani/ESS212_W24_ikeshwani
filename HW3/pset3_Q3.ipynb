{
 "cells": [
  {
   "cell_type": "code",
   "execution_count": 2,
   "id": "97284dbb",
   "metadata": {},
   "outputs": [],
   "source": [
    "import numpy as np\n",
    "import sympy \n",
    "from sympy import symbols, Matrix"
   ]
  },
  {
   "cell_type": "markdown",
   "id": "c29992db",
   "metadata": {},
   "source": [
    "# Farmer's Field!\n",
    "\n",
    "### Four equal plots enclosed in separate greenhouses. Four seedlings planted in each greenhouse, meaning there are 16 total plants. Plants are dried and weighed, resulting masses are given in a vector $\\vec{d_i} = [i=1, ... , 16]$"
   ]
  },
  {
   "cell_type": "markdown",
   "id": "a5714901",
   "metadata": {},
   "source": [
    "### A model of the form $d_i = \\mu + \\beta_{1} \\Delta_{CO2, i} + \\beta_{2} \\Delta_{H2O,i} + \\beta_{3} \\Delta_{CO2,i} \\Delta_{H2O,i} + e_i $ \n",
    "\n",
    "where $\\Delta_{CO2,i} = 0$ if A and $\\Delta_{CO2,i} = 1$ if B\n",
    "\n",
    "$\\Delta_{H2O,i} = 0$ if a and $\\Delta_{H2O,i} = 1$ if b\n",
    "\n",
    "### Express the above model in matrix form such that $\\vec{d} = \\matrix{A}\\vec{\\beta} + \\vec{e}$ and write down matrix $\\matrix{A}$ and $\\vec{\\beta}$"
   ]
  },
  {
   "cell_type": "markdown",
   "id": "27e34422",
   "metadata": {},
   "source": [
    "We know that $\\vec{d}$ is a column vector with 16x1 (16 rows one column). Therefore $\\vec{e}$ must also be a column vector with dimensions 16x1.\n",
    "\n",
    "When matrix$\\matrix{A} $ multiplied with $\\vec{\\beta}$ the result must also give a vector with dimensions 16x1.\n",
    "\n",
    "Therefore, $\\matrix{A}$ must be a matrix with dimensions 16x4. While $\\vec{\\beta}$ must be a vector with dimensions 4x1.\n",
    "\n",
    "Let's say i = 1,2,3,4 corresponds to plants in the Aa plot. i = 5,6,7,8 corresponds to plants in the Ab plot. i = 9, 10, 11, 12 corresponds to plants in the Ba plot. and i = 13, 14, 15, 16 corresponds to plants in the Bb plot. \n",
    "\n",
    "Then, A will be represented as the following matrix:\n",
    "\n",
    "\n",
    "\n",
    "\n",
    "$ \n",
    "\\matrix{A} = \\begin{bmatrix}\n",
    "1 & 0 & 0 & 0 \\\\\n",
    "1 & 0 & 0 & 0 \\\\\n",
    "1 & 0 & 0 & 0 \\\\\n",
    "1 & 0 & 0 & 0 \\\\\n",
    "1 & 0 & 1 & 0 \\\\\n",
    "1 & 0 & 1 & 0 \\\\\n",
    "1 & 0 & 1 & 0 \\\\\n",
    "1 & 0 & 1 & 0 \\\\\n",
    "1 & 1 & 0 & 0 \\\\\n",
    "1 & 1 & 0 & 0 \\\\\n",
    "1 & 1 & 0 & 0 \\\\\n",
    "1 & 1 & 0 & 0 \\\\\n",
    "1 & 1 & 1 & 1 \\\\\n",
    "1 & 1 & 1 & 1 \\\\\n",
    "1 & 1 & 1 & 1 \\\\\n",
    "1 & 1 & 1 & 1 \\\\\n",
    "\\end{bmatrix}\n",
    "\\hspace{6em} \n",
    "\\vec{\\beta} = \\begin{bmatrix}\n",
    "1 \\\\\n",
    "\\beta_{1} \\\\\n",
    "\\beta_{2} \\\\\n",
    "\\beta_{3} \\\\\n",
    "\\end{bmatrix}\n",
    "$"
   ]
  },
  {
   "cell_type": "markdown",
   "id": "a58c20ca",
   "metadata": {},
   "source": [
    "### Find the matrix equal to the product $\\matrix{A'}\\matrix{A}$\n",
    "\n",
    "A is a 16x4 matrix, A' is a 4x16 matrix. \n",
    "\n",
    "\n",
    "Therefore, A' times A should give a 4x4 matrix"
   ]
  },
  {
   "cell_type": "code",
   "execution_count": 3,
   "id": "7b7681ba",
   "metadata": {},
   "outputs": [],
   "source": [
    "A = np.array([\n",
    "    [1, 0, 0, 0],\n",
    "    [1, 0, 0, 0],\n",
    "    [1, 0, 0, 0],\n",
    "    [1, 0, 0, 0],\n",
    "    [1, 0, 1, 0],\n",
    "    [1, 0, 1, 0],\n",
    "    [1, 0, 1, 0],\n",
    "    [1, 0, 1, 0],\n",
    "    [1, 1, 0, 0],\n",
    "    [1, 1, 0, 0],\n",
    "    [1, 1, 0, 0],\n",
    "    [1, 1, 0, 0],\n",
    "    [1, 1, 1, 1],\n",
    "    [1, 1, 1, 1],\n",
    "    [1, 1, 1, 1],\n",
    "    [1, 1, 1, 1]\n",
    "])\n",
    "\n",
    "A_prime = np.transpose(A)"
   ]
  },
  {
   "cell_type": "code",
   "execution_count": 4,
   "id": "0c63f6d8",
   "metadata": {},
   "outputs": [
    {
     "name": "stdout",
     "output_type": "stream",
     "text": [
      "[[16  8  8  4]\n",
      " [ 8  8  4  4]\n",
      " [ 8  4  8  4]\n",
      " [ 4  4  4  4]]\n"
     ]
    }
   ],
   "source": [
    "AA = A_prime @ A\n",
    "print(AA)"
   ]
  },
  {
   "cell_type": "markdown",
   "id": "1b543e96",
   "metadata": {},
   "source": [
    "### Cool! We see that $\\matrix{A'} \\cdot \\matrix{A} $ gives a 4x4 matrix. \n",
    "$\\matrix{A'} \\cdot \\matrix{A} = \n",
    "\\begin{bmatrix}\n",
    "16 & 8 & 8 & 4 \\\\\n",
    "8 & 8 & 4 & 4 \\\\\n",
    "8 & 4 & 8 & 4 \\\\\n",
    "4 & 4 & 4 & 4 \\\\\n",
    "\\end{bmatrix}\n",
    "$"
   ]
  },
  {
   "cell_type": "markdown",
   "id": "8c528bbe",
   "metadata": {},
   "source": [
    "### Write the explicit expressions for $\\matrix{A'} \\cdot \\vec{d}$\n",
    "\n",
    "Where $\\vec{d} = \\matrix{A} \\vec{\\beta} + \\vec{e}$\n",
    "\n",
    "We know $\\matrix{A}$ and $\\vec{\\beta}$ and can choose some values for $\\vec{e}$\n",
    "\n",
    "$\\matrix{A'} \\cdot \\vec{d} = \n",
    "\\begin{bmatrix}\n",
    "16 & 8 & 8 & 4 \\\\\n",
    "8 & 8 & 4 & 4 \\\\\n",
    "8 & 4 & 8 & 4 \\\\\n",
    "4 & 4 & 4 & 4 \\\\\n",
    "\\end{bmatrix}\n",
    "\\cdot \\begin{bmatrix}\n",
    "1 \\\\\n",
    "\\beta_{1} \\\\\n",
    "\\beta_{2} \\\\\n",
    "\\beta_{3} \\\\\n",
    "\\end{bmatrix}\n",
    " + \\begin{bmatrix}\n",
    "1 & 1 & 1 & 1 & 1 & 1 & 1 & 1 & 1 & 1 & 1 & 1 & 1 & 1 & 1 & 1 \\\\\n",
    "0 & 0 & 0 & 0 & 0 & 0 & 0 & 0 & 1 & 1 & 1 & 1 & 1 & 1 & 1 & 1 \\\\\n",
    "0 & 0 & 0 & 0 & 1 & 1 & 1 & 1 & 0 & 0 & 0 & 0 & 1 & 1 & 1 & 1 \\\\\n",
    "0 & 0 & 0 & 0 & 0 & 0 & 0 & 0 & 0 & 0 & 0 & 0 & 1 & 1 & 1 & 1 \\\\\n",
    "\\end{bmatrix} \n",
    "\\cdot \\vec{e}\n",
    "$\n",
    "\n",
    "where $\\vec{e} = \\begin{bmatrix}\n",
    "e_1 \\\\\n",
    "e_2 \\\\\n",
    "e_3 \\\\\n",
    "e_4 \\\\\n",
    "e_5 \\\\\n",
    "e_6 \\\\\n",
    "e_7 \\\\\n",
    "e_8 \\\\\n",
    "e_9 \\\\\n",
    "e_{10} \\\\\n",
    "e_{11} \\\\\n",
    "e_{12} \\\\\n",
    "e_{13} \\\\\n",
    "e_{14} \\\\\n",
    "e_{15} \\\\\n",
    "e_{16} \\\\\n",
    "\\end{bmatrix}\n",
    "$\n",
    "\n"
   ]
  },
  {
   "cell_type": "code",
   "execution_count": 6,
   "id": "51904dbc",
   "metadata": {},
   "outputs": [],
   "source": [
    "e1, e2, e3, e4, e5, e6, e7, e8, e9 = symbols('e1 e2 e3 e4 e5 e6 e7 e8 e9')\n",
    "e10, e11, e12, e13, e14, e15, e16 = symbols('e10 e11 e12 e13 e14 e15 e16')\n",
    "b1, b2, b3 = symbols('b1, b2, b3')\n",
    "\n",
    "e = np.array([e1, e2, e3, e4, e5, e6, e7, e8, e9, e10, e11, e12, e13, e14, e15, e16])\n",
    "beta = np.array([1, b1, b2, b3])\n",
    "\n",
    "Aprime_d = AA @ beta "
   ]
  },
  {
   "cell_type": "markdown",
   "id": "27fc2a7a",
   "metadata": {},
   "source": [
    "$\\matrix{A'} \\cdot\\vec{d}=\n",
    "\\begin{bmatrix}\n",
    "8*b1 + 8*b2 + 4*b3 + e1 + e10 + e11 + e12 + e13 + e14 + e15 + e16 + e2 + e3 + e4 + e5 + e6 + e7 + e8 + e9 + 16 \\\\\n",
    "8*b1 + 4*b2 + 4*b3 + e10 + e11 + e12 + e13 + e14 + e15 + e16 + e9 + 8\\\\\n",
    "4*b1 + 8*b2 + 4*b3 + e13 + e14 + e15 + e16 + e5 + e6 + e7 + e8 + 8 \\\\\n",
    "4*b1 + 4*b2 + 4*b3 + e13 + e14 + e15 + e16 + 4 \\\\\n",
    "\\end{bmatrix}$"
   ]
  },
  {
   "cell_type": "markdown",
   "id": "5d0910c6",
   "metadata": {},
   "source": [
    "### We can see that we get a 4x1 matrix or a column vector with four rows as expected!"
   ]
  }
 ],
 "metadata": {
  "kernelspec": {
   "display_name": "Python 3 (ipykernel)",
   "language": "python",
   "name": "python3"
  },
  "language_info": {
   "codemirror_mode": {
    "name": "ipython",
    "version": 3
   },
   "file_extension": ".py",
   "mimetype": "text/x-python",
   "name": "python",
   "nbconvert_exporter": "python",
   "pygments_lexer": "ipython3",
   "version": "3.11.5"
  }
 },
 "nbformat": 4,
 "nbformat_minor": 5
}
