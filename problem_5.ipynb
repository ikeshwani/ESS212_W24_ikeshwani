{
 "cells": [
  {
   "cell_type": "code",
   "execution_count": 6,
   "id": "77ec2e8b",
   "metadata": {},
   "outputs": [],
   "source": [
    "def sequence_S(N):\n",
    "    S = [0,1] #initialize array with S(0) and S(1) values\n",
    "    for n in range (2, N+1): #compute S[n] for n=2 to N\n",
    "        S.append(2 * S[n-1] + 2 * S[n-2]) #using the difference equation\n",
    "        \n",
    "    return S"
   ]
  },
  {
   "cell_type": "code",
   "execution_count": 7,
   "id": "8f3605b0",
   "metadata": {},
   "outputs": [
    {
     "data": {
      "text/plain": [
       "[0, 1, 2, 6, 16, 44, 120, 328, 896, 2448]"
      ]
     },
     "execution_count": 7,
     "metadata": {},
     "output_type": "execute_result"
    }
   ],
   "source": [
    "sequence_S(9)"
   ]
  },
  {
   "cell_type": "code",
   "execution_count": null,
   "id": "78cd245e",
   "metadata": {},
   "outputs": [],
   "source": [
    "def closed_S(N):\n",
    "    # n = 0, 1, 2, 6....\n",
    "    # x[n] = "
   ]
  }
 ],
 "metadata": {
  "kernelspec": {
   "display_name": "Python 3 (ipykernel)",
   "language": "python",
   "name": "python3"
  },
  "language_info": {
   "codemirror_mode": {
    "name": "ipython",
    "version": 3
   },
   "file_extension": ".py",
   "mimetype": "text/x-python",
   "name": "python",
   "nbconvert_exporter": "python",
   "pygments_lexer": "ipython3",
   "version": "3.11.5"
  }
 },
 "nbformat": 4,
 "nbformat_minor": 5
}
