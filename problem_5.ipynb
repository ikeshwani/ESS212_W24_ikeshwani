{
 "cells": [
  {
   "cell_type": "markdown",
   "id": "e2983fda",
   "metadata": {},
   "source": [
    "### Problem 5 part a\n",
    "consider the difference equation $S[n+2] = 2S[n+1] + 2S[n]$ subject to the initial conditions $S[0]=0$ and $S[1]=1$. \n",
    "\n",
    "Write a computer program that computes the sequence $S[n]$ for $n=0,1...N$"
   ]
  },
  {
   "cell_type": "code",
   "execution_count": 9,
   "id": "77ec2e8b",
   "metadata": {},
   "outputs": [],
   "source": [
    "def sequence_S(N):\n",
    "    S = [0,1] #initialize array with S(0) and S(1) values\n",
    "    for n in range (2, N+1): #compute S[n] for n=2 to N\n",
    "        S.append(2 * S[n-1] + 2 * S[n-2]) #compute using the difference equation and append to the array to show sequence\n",
    "        \n",
    "    return S"
   ]
  },
  {
   "cell_type": "code",
   "execution_count": 10,
   "id": "8f3605b0",
   "metadata": {},
   "outputs": [
    {
     "data": {
      "text/plain": [
       "[0, 1, 2, 6, 16, 44, 120, 328, 896, 2448]"
      ]
     },
     "execution_count": 10,
     "metadata": {},
     "output_type": "execute_result"
    }
   ],
   "source": [
    "sequence_S(9) #show that sequence works"
   ]
  },
  {
   "cell_type": "markdown",
   "id": "95657768",
   "metadata": {},
   "source": [
    "### Problem 5 part b\n",
    "\n",
    "Look for a closed form solution of the form $S[n] = Aa^{n} + Bb^{n}$ and find values for a, b, A, and B. \n",
    "\n",
    "I did that by hand algebraically and got $a=1+\\sqrt{3}$, $b=1-\\sqrt{3}$, $A = \\frac{1}{2\\sqrt{3}}$, and $B = -\\frac{1}{2\\sqrt{3}}$"
   ]
  },
  {
   "cell_type": "markdown",
   "id": "08585f1d",
   "metadata": {},
   "source": [
    "### Problem 5 part c\n",
    "\n",
    "Verify that the computer program produces the same sequence as my closed form solution. Using the closed form solution: $S[n] = Aa^{n} + Bb^{n}$"
   ]
  },
  {
   "cell_type": "code",
   "execution_count": 11,
   "id": "c2543b3c",
   "metadata": {},
   "outputs": [],
   "source": [
    "import numpy as np"
   ]
  },
  {
   "cell_type": "code",
   "execution_count": 16,
   "id": "e6ca42bb",
   "metadata": {},
   "outputs": [],
   "source": [
    "a = 1+np.sqrt(3)\n",
    "b = 1-np.sqrt(3)\n",
    "A = 1/(2*np.sqrt(3))\n",
    "B = -1/(2*np.sqrt(3))\n",
    "\n",
    "def closed_form_solution(n):\n",
    "    S_n = A * a**n + B * b**n\n",
    "    return S_n.round()"
   ]
  },
  {
   "cell_type": "code",
   "execution_count": 17,
   "id": "ff33c59d",
   "metadata": {},
   "outputs": [],
   "source": [
    "n=10 #lets say we want to compute 10 terms\n",
    "\n",
    "closed_form_values = [closed_form_solution(i) for i in range(n+1)]\n",
    "\n",
    "S_n_values = sequence_S(10)"
   ]
  },
  {
   "cell_type": "code",
   "execution_count": 18,
   "id": "f2c8835f",
   "metadata": {},
   "outputs": [
    {
     "name": "stdout",
     "output_type": "stream",
     "text": [
      "n=0: Closed-form Solution = 0.0, Original Difference Equation Solution = 0\n",
      "n=1: Closed-form Solution = 1.0, Original Difference Equation Solution = 1\n",
      "n=2: Closed-form Solution = 2.0, Original Difference Equation Solution = 2\n",
      "n=3: Closed-form Solution = 6.0, Original Difference Equation Solution = 6\n",
      "n=4: Closed-form Solution = 16.0, Original Difference Equation Solution = 16\n",
      "n=5: Closed-form Solution = 44.0, Original Difference Equation Solution = 44\n",
      "n=6: Closed-form Solution = 120.0, Original Difference Equation Solution = 120\n",
      "n=7: Closed-form Solution = 328.0, Original Difference Equation Solution = 328\n",
      "n=8: Closed-form Solution = 896.0, Original Difference Equation Solution = 896\n",
      "n=9: Closed-form Solution = 2448.0, Original Difference Equation Solution = 2448\n",
      "n=10: Closed-form Solution = 6688.0, Original Difference Equation Solution = 6688\n"
     ]
    }
   ],
   "source": [
    "for i in range(n+1):\n",
    "    print(f\"n={i}: Closed-form Solution = {closed_form_values[i]}, Original Difference Equation Solution = {S_n_values[i]}\")"
   ]
  },
  {
   "cell_type": "markdown",
   "id": "caf035f5",
   "metadata": {},
   "source": [
    "Therefore, we can see that the sequence is verified, the code from part a) and the closed form solution return the same values. "
   ]
  }
 ],
 "metadata": {
  "kernelspec": {
   "display_name": "Python 3 (ipykernel)",
   "language": "python",
   "name": "python3"
  },
  "language_info": {
   "codemirror_mode": {
    "name": "ipython",
    "version": 3
   },
   "file_extension": ".py",
   "mimetype": "text/x-python",
   "name": "python",
   "nbconvert_exporter": "python",
   "pygments_lexer": "ipython3",
   "version": "3.11.5"
  }
 },
 "nbformat": 4,
 "nbformat_minor": 5
}
