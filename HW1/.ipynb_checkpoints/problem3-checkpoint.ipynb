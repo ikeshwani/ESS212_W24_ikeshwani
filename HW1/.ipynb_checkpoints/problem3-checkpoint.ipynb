{
 "cells": [
  {
   "cell_type": "code",
   "execution_count": 2,
   "metadata": {},
   "outputs": [],
   "source": [
    "#python S1 recursive function given in problem3\n",
    "\n",
    "def S1_rec(n):\n",
    "    if n > 1:\n",
    "        S = n + S1_rec(n-1)\n",
    "    else:\n",
    "        S = 1\n",
    "    return S\n",
    "\n",
    "#python S1 recursive function given in problem 3\n",
    "\n",
    "def S1_iter(n):\n",
    "    S=0\n",
    "    for i in range(1, n+1):\n",
    "        S = S + i\n",
    "    return S"
   ]
  },
  {
   "cell_type": "code",
   "execution_count": 6,
   "metadata": {},
   "outputs": [
    {
     "name": "stdout",
     "output_type": "stream",
     "text": [
      "0\n"
     ]
    }
   ],
   "source": [
    "print(S1_iter(-3))"
   ]
  },
  {
   "cell_type": "code",
   "execution_count": 7,
   "metadata": {},
   "outputs": [],
   "source": [
    "#recursive python function for O1 a function that returns the square of inputted number\n",
    "def O1_rec(n):\n",
    "    O = 1\n",
    "    if n>1:\n",
    "        O = n**2\n",
    "    else:\n",
    "        O = 1\n",
    "    return O"
   ]
  },
  {
   "cell_type": "code",
   "execution_count": 8,
   "metadata": {},
   "outputs": [
    {
     "data": {
      "text/plain": [
       "100"
      ]
     },
     "execution_count": 8,
     "metadata": {},
     "output_type": "execute_result"
    }
   ],
   "source": [
    "#checking the O1_rec python function\n",
    "#if n=10 function should return 10^2 = 100\n",
    "O1_rec(10)"
   ]
  },
  {
   "cell_type": "code",
   "execution_count": null,
   "metadata": {},
   "outputs": [],
   "source": [
    "#recursive function in python for S2, a function that adds the square of consecutive numbers\n",
    "def S2_rec(n):\n",
    "    if n > 1:\n",
    "        S = n**2 + S2_rec(n-1)\n",
    "    else:\n",
    "        S = 1\n",
    "    return S"
   ]
  },
  {
   "cell_type": "code",
   "execution_count": null,
   "metadata": {},
   "outputs": [],
   "source": [
    "#checking the S2_rec function\n",
    "#if n=5, function should return 1+4+9+16+25 = 55\n",
    "S2_rec(5)"
   ]
  }
 ],
 "metadata": {
  "kernelspec": {
   "display_name": "Python 3 (ipykernel)",
   "language": "python",
   "name": "python3"
  },
  "language_info": {
   "codemirror_mode": {
    "name": "ipython",
    "version": 3
   },
   "file_extension": ".py",
   "mimetype": "text/x-python",
   "name": "python",
   "nbconvert_exporter": "python",
   "pygments_lexer": "ipython3",
   "version": "3.11.5"
  }
 },
 "nbformat": 4,
 "nbformat_minor": 2
}
