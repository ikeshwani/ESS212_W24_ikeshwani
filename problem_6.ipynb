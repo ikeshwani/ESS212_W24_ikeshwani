{
 "cells": [
  {
   "cell_type": "code",
   "execution_count": 1,
   "id": "009b0e9d",
   "metadata": {},
   "outputs": [],
   "source": [
    "def sqrt_estimate(c, tol):\n",
    "    if c < 0:\n",
    "        raise ValueError(\"Input 'c' must be non-negative\")\n",
    "\n",
    "    x = c / 2  # Initial guess for the square root\n",
    "    while abs(x * x - c) > tol:\n",
    "        x = (x + c / x) / 2  # Recurrence relation for estimating square root\n",
    "\n",
    "    return x"
   ]
  },
  {
   "cell_type": "code",
   "execution_count": 2,
   "id": "e05dda42",
   "metadata": {},
   "outputs": [
    {
     "data": {
      "text/plain": [
       "1.7320508100147274"
      ]
     },
     "execution_count": 2,
     "metadata": {},
     "output_type": "execute_result"
    }
   ],
   "source": [
    "sqrt_estimate(3, 1e-6)"
   ]
  },
  {
   "cell_type": "code",
   "execution_count": 1,
   "id": "80efadc3",
   "metadata": {},
   "outputs": [],
   "source": [
    "def sqrt_estimate_test(c, tol ,x0):\n",
    "    if c < 0:\n",
    "        raise ValueError(\"Input 'c' must be non-negative\")\n",
    "\n",
    "    x = x0  # Initial guess for the square root\n",
    "    while abs(x * x - c) > tol:\n",
    "        x = (x + c / x) / 2  # Recurrence relation for estimating square root\n",
    "\n",
    "    return x"
   ]
  },
  {
   "cell_type": "code",
   "execution_count": 20,
   "id": "68d12cbe",
   "metadata": {},
   "outputs": [
    {
     "data": {
      "text/plain": [
       "2.000609756097561"
      ]
     },
     "execution_count": 20,
     "metadata": {},
     "output_type": "execute_result"
    }
   ],
   "source": [
    "sqrt_estimate_test(4,10e-2,1)"
   ]
  },
  {
   "cell_type": "code",
   "execution_count": null,
   "id": "c4d4ed9a",
   "metadata": {},
   "outputs": [],
   "source": []
  },
  {
   "cell_type": "code",
   "execution_count": null,
   "id": "2658b22b",
   "metadata": {},
   "outputs": [],
   "source": []
  }
 ],
 "metadata": {
  "kernelspec": {
   "display_name": "Python 3 (ipykernel)",
   "language": "python",
   "name": "python3"
  },
  "language_info": {
   "codemirror_mode": {
    "name": "ipython",
    "version": 3
   },
   "file_extension": ".py",
   "mimetype": "text/x-python",
   "name": "python",
   "nbconvert_exporter": "python",
   "pygments_lexer": "ipython3",
   "version": "3.11.5"
  }
 },
 "nbformat": 4,
 "nbformat_minor": 5
}
