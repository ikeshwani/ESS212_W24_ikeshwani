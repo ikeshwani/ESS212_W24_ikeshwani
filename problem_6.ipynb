{
 "cells": [
  {
   "cell_type": "code",
   "execution_count": 32,
   "id": "e018d117",
   "metadata": {},
   "outputs": [],
   "source": [
    "import numpy as np\n",
    "import sympy\n",
    "import unittest"
   ]
  },
  {
   "cell_type": "markdown",
   "id": "91ef9a83",
   "metadata": {},
   "source": [
    "## Question 6) Square Roots the Babylonian Way\n",
    "\n",
    "### 6a) Show that the following nonlinear recurrence relation can be used to compute the square root of c\n",
    "\n",
    "$x[n+1] = \\frac{1}{2} (x[n]+\\frac{c}{x[n]})$\n",
    "\n",
    "done by hand\n",
    "\n",
    "### 6b) Write a computer function that takes in c and tol as inputs and estimates the square root of c using the recurrence relation"
   ]
  },
  {
   "cell_type": "code",
   "execution_count": 33,
   "id": "009b0e9d",
   "metadata": {},
   "outputs": [],
   "source": [
    "def sqrt_estimate(c, tol):\n",
    "    if c < 0:\n",
    "        raise ValueError(\"Input 'c' must be non-negative\")\n",
    "\n",
    "    x = c / 2  # Initial guess for the square root\n",
    "    while abs(x * x - c) > tol:\n",
    "        x = (x + c / x) / 2  # Recurrence relation for estimating square root\n",
    "\n",
    "    return x"
   ]
  },
  {
   "cell_type": "code",
   "execution_count": 34,
   "id": "e05dda42",
   "metadata": {},
   "outputs": [
    {
     "data": {
      "text/plain": [
       "1.7320508100147274"
      ]
     },
     "execution_count": 34,
     "metadata": {},
     "output_type": "execute_result"
    }
   ],
   "source": [
    "sqrt_estimate(3, 1e-6)"
   ]
  },
  {
   "cell_type": "markdown",
   "id": "b09b4a37",
   "metadata": {},
   "source": [
    "### 5c) Testing the square root function by writing a few unit tests"
   ]
  },
  {
   "cell_type": "code",
   "execution_count": 35,
   "id": "6831dc11",
   "metadata": {},
   "outputs": [],
   "source": [
    "def TestSqrt():\n",
    "    assert(np.round(sqrt_estimate(100, 1e-2)) == 10) #test case where c=100\n",
    "    assert(np.round(sqrt_estimate(1500, 1e-2)) == 39 ) # c = 1500\n",
    "    assert(np.round(sqrt_estimate(4, 1e-2) == 2))\n",
    "    assert(np.round(sqrt_estimate(99999, 1e-2)) == 316)"
   ]
  },
  {
   "cell_type": "code",
   "execution_count": 36,
   "id": "c1f7195c",
   "metadata": {},
   "outputs": [],
   "source": [
    "TestSqrt()"
   ]
  },
  {
   "cell_type": "markdown",
   "id": "365d93d7",
   "metadata": {},
   "source": [
    "### 5d) For what values of $x_0$ does the recurrence relation converge to the square root of c?\n",
    "\n",
    "I wrote this function below that takes in a guess $x_0$, and I noticed through testing that as long as $x_0$, the guess, is greater than 0 the recurrence relation will converge to the square root of c. If $x_0$ is zero, the sqrt_estimate function doesn't work because it causes division by zero. If $x_0$ is less than zero, the reccurence relation converges to the negative root. This can be best thought about thinking of $y=x^2$ graph. If the guess is negative the equation will converge to the negative root, otherwise it will converge to the positive."
   ]
  },
  {
   "cell_type": "code",
   "execution_count": 40,
   "id": "80efadc3",
   "metadata": {},
   "outputs": [],
   "source": [
    "def sqrt_estimate_test(c, tol ,x0):\n",
    "    if c < 0:\n",
    "        raise ValueError(\"Input 'c' must be non-negative\")\n",
    "\n",
    "    x = x0  # Initial guess for the square root\n",
    "    while abs(x * x - c) > tol:\n",
    "        x = (x + c / x) / 2  # Recurrence relation for estimating square root\n",
    "\n",
    "    return x"
   ]
  },
  {
   "cell_type": "code",
   "execution_count": 41,
   "id": "68d12cbe",
   "metadata": {},
   "outputs": [
    {
     "data": {
      "text/plain": [
       "-5.001524390243903"
      ]
     },
     "execution_count": 41,
     "metadata": {},
     "output_type": "execute_result"
    }
   ],
   "source": [
    "sqrt_estimate_test(25,10e-2, -4)"
   ]
  }
 ],
 "metadata": {
  "kernelspec": {
   "display_name": "Python 3 (ipykernel)",
   "language": "python",
   "name": "python3"
  },
  "language_info": {
   "codemirror_mode": {
    "name": "ipython",
    "version": 3
   },
   "file_extension": ".py",
   "mimetype": "text/x-python",
   "name": "python",
   "nbconvert_exporter": "python",
   "pygments_lexer": "ipython3",
   "version": "3.11.5"
  }
 },
 "nbformat": 4,
 "nbformat_minor": 5
}
