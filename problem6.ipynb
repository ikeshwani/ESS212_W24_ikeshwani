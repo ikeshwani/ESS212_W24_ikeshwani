{
 "cells": [
  {
   "cell_type": "code",
   "execution_count": 21,
   "id": "2e855f1b",
   "metadata": {},
   "outputs": [],
   "source": [
    "import numpy as np"
   ]
  },
  {
   "cell_type": "code",
   "execution_count": 1,
   "id": "31d7dc57",
   "metadata": {},
   "outputs": [],
   "source": [
    "def sqrt_estimate(c, tol):\n",
    "    if c < 0:\n",
    "        raise ValueError(\"Input 'c' must be non-negative\")\n",
    "\n",
    "    x = c / 2  # Initial guess for the square root\n",
    "    while abs(x * x - c) > tol:\n",
    "        x = (x + c / x) / 2  # Recurrence relation for estimating square root\n",
    "\n",
    "    return x"
   ]
  },
  {
   "cell_type": "code",
   "execution_count": 19,
   "id": "fc05dcb4",
   "metadata": {},
   "outputs": [
    {
     "data": {
      "text/plain": [
       "363.9120772934034"
      ]
     },
     "execution_count": 19,
     "metadata": {},
     "output_type": "execute_result"
    }
   ],
   "source": [
    "sqrt_estimate(132432, 1e-6)"
   ]
  },
  {
   "cell_type": "code",
   "execution_count": null,
   "id": "8f676bd8",
   "metadata": {},
   "outputs": [],
   "source": []
  },
  {
   "cell_type": "code",
   "execution_count": null,
   "id": "ee2a0571",
   "metadata": {},
   "outputs": [],
   "source": []
  }
 ],
 "metadata": {
  "kernelspec": {
   "display_name": "Python 3 (ipykernel)",
   "language": "python",
   "name": "python3"
  },
  "language_info": {
   "codemirror_mode": {
    "name": "ipython",
    "version": 3
   },
   "file_extension": ".py",
   "mimetype": "text/x-python",
   "name": "python",
   "nbconvert_exporter": "python",
   "pygments_lexer": "ipython3",
   "version": "3.11.5"
  }
 },
 "nbformat": 4,
 "nbformat_minor": 5
}
