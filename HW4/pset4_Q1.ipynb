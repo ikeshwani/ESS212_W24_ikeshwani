{
 "cells": [
  {
   "cell_type": "markdown",
   "id": "f302c215",
   "metadata": {},
   "source": [
    "## Question 1\n",
    "\n",
    "### The data in the table is believed to obey a model of the form $y_i = a x_{i}^2 + bx_i + c + e_i$ with $e_i \\approx N(0,\\sigma^2)$. \n",
    "\n",
    "Estimate a,b,c  and assign errorbars to estimates."
   ]
  },
  {
   "cell_type": "code",
   "execution_count": 1,
   "id": "a31f3556",
   "metadata": {},
   "outputs": [],
   "source": [
    "import numpy as np\n",
    "import matplotlib.pyplot as plt\n",
    "from IPython.display import display, Latex\n",
    "from sklearn.linear_model import LinearRegression"
   ]
  },
  {
   "cell_type": "code",
   "execution_count": 2,
   "id": "95fe3ce0",
   "metadata": {},
   "outputs": [],
   "source": [
    "time = np.array([1.0, 2.0, 3.0, 4.0, 5.0, 6.0, 7.0, 8.0, 9.0, 10.0])\n",
    "y = np.array([-2.73, -2.71, -2.65, -0.87, -3.10, -1.03, 0.63, 1.46, 5.90, 8.38])"
   ]
  },
  {
   "cell_type": "code",
   "execution_count": 3,
   "id": "f7696e63",
   "metadata": {},
   "outputs": [
    {
     "data": {
      "text/plain": [
       "Text(0.5, 1.0, 'Data in Question 1')"
      ]
     },
     "execution_count": 3,
     "metadata": {},
     "output_type": "execute_result"
    },
    {
     "data": {
      "image/png": "[encoded data removed]",
      "text/plain": [
       "<Figure size 640x480 with 1 Axes>"
      ]
     },
     "metadata": {},
     "output_type": "display_data"
    }
   ],
   "source": [
    "plt.scatter(time,y)\n",
    "plt.plot(time, y, linestyle='-', color='blue', label='lines')\n",
    "plt.title(\"Data in Question 1\")"
   ]
  },
  {
   "cell_type": "markdown",
   "id": "889b15e8",
   "metadata": {},
   "source": [
    "To solve this problem, we need to know the prior probability and the likelihood function to solve the posterior probability. \n",
    "\n",
    "#### We also need to express the model in the matrix form $y= \\matrix{A}\\cdot\\vec{\\beta} + \\vec{e}$\n",
    "\n",
    "$\n",
    "\\matrix{A} = \\begin{bmatrix}\n",
    "1 & t_1 & t_{1}^2  \\\\\n",
    "1 & t_2 & t_{2}^2  \\\\\n",
    "1 & t_3 & t_{3}^2   \\\\\n",
    ": & : & : \\\\\n",
    "1 & t_{10} & t_{10}^2 \n",
    "\\end{bmatrix}\n",
    "$\n",
    "$\n",
    "\\hspace{4em}\n",
    "$\n",
    "$\n",
    "\\vec{\\beta} = \\begin{bmatrix}\n",
    "c \\\\\n",
    "b \\\\\n",
    "a \\\\\n",
    "\\end{bmatrix}\n",
    "$\n",
    "\n",
    "#### First, the prior probability is: $prob(a,b,c,\\sigma) \\propto \\frac{1}{\\sigma}$\n",
    "\n",
    "#### The likelihood function is: $prob(data|a,b,c,\\sigma) = \\frac{1}{(2\\pi)^5\\sigma^{10}} \\exp(-\\frac{1}{2\\sigma^2}(\\vec{y}-\\matrix{A}\\vec{\\beta})^T (\\vec{y}-\\matrix{A}\\vec{\\beta})) $\n",
    "\n",
    "#### $ prob(a,b,c,\\sigma | data) \\propto  prob(data|a,b,c,\\sigma) \\cdot prob(a,b,c,\\sigma) $\n",
    "\n",
    "#### Therefore, the posterior probability is $prob(a,b,c,\\sigma | data) \\propto \\frac{1}{\\sigma^{11}} \\exp(-\\frac{1}{2\\sigma^2}(\\vec{y}-\\matrix{A}\\vec{\\beta})^T (\\vec{y}-\\matrix{A}\\vec{\\beta}))$"
   ]
  },
  {
   "cell_type": "markdown",
   "id": "046f3a99",
   "metadata": {},
   "source": [
    "### To solve for the most probable values of a,b,c we need to take the derivative of the posterior and set it equal to zero. \n",
    "\n",
    "#### First, integrate out the sigma to get: $prob(\\beta, data) = \\int_{-\\infty}^{\\infty} Prob(\\beta, log(\\sigma) | data) d(log\\sigma) $\n",
    "\n",
    "#### This integral simplifies and is proportional to $prob(\\beta, data) \\propto \\nu(\\beta)^{-\\kappa/2}$\n",
    "\n",
    "#### where $\\kappa$ is the number of parameters or the length of $\\vec{\\beta}$ and $\\nu = (\\matrix{A}\\vec{\\beta} - \\vec{y})^{T}(\\matrix{A}\\vec{\\beta} - \\vec{y})$\n",
    "\n",
    "#### Therefore, $prob(\\beta, data) \\propto \\frac{1}{(\\vec{e}^{T} \\vec{e})^{-3/2}} $ where $\\vec{e} = (\\matrix{A}\\vec{\\beta} - \\vec{y})$\n",
    "\n",
    "$prob(\\beta, \\sigma | data) \\propto \\frac{1}{\\sigma^{11}} exp(\\frac{-1}{2 \\sigma^2} (\\vec{y}-\\matrix{A}\\vec{\\beta})^T (\\vec{y}-\\matrix{A}\\vec{\\beta}))$\n",
    "\n",
    "#### Next, take the logarithm of the posterior probability $log(prob(\\beta, \\sigma | data)) $\n",
    "\n",
    "#### This gives: $\\mathcal{L} = -\\frac{1}{2 \\sigma^2} (\\vec{y}-\\matrix{A}\\vec{\\beta})^T (\\vec{y}-\\matrix{A}\\vec{\\beta})) - 11 log(\\sigma) $\n",
    "\n",
    "#### Taking the partial derivative with respect to $\\vec{\\beta}$  and setting equal to zero: \n",
    "\n",
    "## $\\frac{\\partial\\mathcal{L}}{\\partial\\beta} = \\frac{1}{\\sigma^2} (\\matrix{A}\\hat\\beta-\\vec{y})^{T} \\matrix{A} = 0$\n",
    "\n",
    "results in $\\hat{\\beta} = (\\matrix{A^T}\\cdot\\matrix{A})^{-1} A^{T} \\cdot \\vec{y}$"
   ]
  },
  {
   "cell_type": "markdown",
   "id": "1be99c1f",
   "metadata": {},
   "source": [
    "### Compute the $\\hat{\\beta}$ vector through the following calculation: $\\hat{\\beta} = (\\matrix{A^T}\\cdot\\matrix{A})^{-1} A^{T} \\cdot \\vec{y}$"
   ]
  },
  {
   "cell_type": "code",
   "execution_count": 15,
   "id": "6dfc2cbc",
   "metadata": {},
   "outputs": [],
   "source": [
    "#define A as the design matrix\n",
    "A = np.column_stack((np.ones(10),time, time**2))"
   ]
  },
  {
   "cell_type": "code",
   "execution_count": 16,
   "id": "42386f28",
   "metadata": {},
   "outputs": [],
   "source": [
    "#compute the inverse of Atranspose times A\n",
    "\n",
    "AAinverse = np.linalg.inv(np.transpose(A) @ A)\n",
    "\n",
    "#compute Atranspose times y vector\n",
    "At_y = np.transpose(A) @ y \n",
    "\n",
    "beta_hat = AAinverse @ At_y"
   ]
  },
  {
   "cell_type": "code",
   "execution_count": 17,
   "id": "156dc47f",
   "metadata": {},
   "outputs": [],
   "source": [
    "c= beta_hat[0]\n",
    "b= beta_hat[1]\n",
    "a= beta_hat[2]"
   ]
  },
  {
   "cell_type": "markdown",
   "id": "cabbc2cd",
   "metadata": {},
   "source": [
    "### We have found $\\hat{\\beta} = \\begin{bmatrix}\n",
    "c = -1.025 \\\\\n",
    "b = -1.31 \\\\\n",
    "a = 0.222 \\\\\n",
    "\\end{bmatrix}$ \n",
    "\n",
    "so we have estimates for a, b, and c. "
   ]
  },
  {
   "cell_type": "markdown",
   "id": "66b5c5a5",
   "metadata": {},
   "source": [
    "### Now we have to assign appropriate errorbars to estimates of a,b,c\n",
    "\n",
    "### $\\hat\\sigma^2$ gives the variance squared and $\\hat\\sigma$ is the standard deviation. \n"
   ]
  },
  {
   "cell_type": "markdown",
   "id": "913713e8",
   "metadata": {},
   "source": [
    "## To calculate $\\hat\\sigma^2$ we must take the derivative of the posterior with respect to sigma and set to zero $\\frac{\\partial\\mathcal{L}}{\\partial\\sigma} = 0 $\n",
    "\n",
    "### $\\frac{\\partial\\mathcal{L}}{\\partial\\sigma} = \\frac{-(N+1)}{\\hat\\sigma} + \\frac{1}{\\hat\\sigma^{3}} [(\\hat\\beta-\\hat\\beta)\\matrix{A}^T\\matrix{A}(\\hat\\beta -\\hat\\beta) + (\\vec{y}-\\matrix{A}\\hat\\beta)^T(\\vec{y}-\\matrix{A}\\hat\\beta)] = 0 $\n",
    "\n",
    "### After simplifying we are left with\n",
    "\n",
    "## $\\hat\\sigma^2 = \\frac{(\\vec{y}-\\matrix{A}\\vec{\\beta})^T (\\vec{y}-\\matrix{A}\\vec{\\beta}))}{N+1}$\n",
    "\n",
    "where N=number of data points"
   ]
  },
  {
   "cell_type": "code",
   "execution_count": 18,
   "id": "77b48e07",
   "metadata": {},
   "outputs": [],
   "source": [
    "#calculate residuals \n",
    "\n",
    "N = len(y)\n",
    "\n",
    "residuals = y - A @ beta_hat\n",
    "sigma_squared = (np.transpose(residuals) @ residuals)/(N+1)\n",
    "sigma = np.sqrt(sigma_squared)"
   ]
  },
  {
   "cell_type": "code",
   "execution_count": 19,
   "id": "f4be7b50",
   "metadata": {},
   "outputs": [
    {
     "name": "stdout",
     "output_type": "stream",
     "text": [
      "sigma hat squared is: 0.6567256611570249\n",
      "sigma hat, the standard deviation is: 0.8103861185614083\n"
     ]
    }
   ],
   "source": [
    "print(\"sigma hat squared is:\", sigma_squared)\n",
    "print(\"sigma hat, the standard deviation is:\", np.sqrt(sigma_squared))"
   ]
  },
  {
   "cell_type": "code",
   "execution_count": 20,
   "id": "4e524dcc",
   "metadata": {},
   "outputs": [
    {
     "name": "stdout",
     "output_type": "stream",
     "text": [
      "e is the array of errorbars: [1.69007688e-03 1.83603659e-03 2.34541021e-03 2.76661068e-01\n",
      " 3.27083312e-04 2.19497729e-01 3.63900408e-01 9.71407848e-02\n",
      " 1.52140139e-12 2.96772639e-24]\n"
     ]
    }
   ],
   "source": [
    "e = 1/(np.sqrt(2*np.pi)*sigma) * np.exp(-1*(y)**2/(2*sigma_squared))\n",
    "\n",
    "print('e is the array of errorbars:', e)"
   ]
  },
  {
   "cell_type": "code",
   "execution_count": 21,
   "id": "235a4b9c",
   "metadata": {
    "scrolled": false
   },
   "outputs": [
    {
     "data": {
      "text/plain": [
       "Text(0.5, 1.0, 'Data in Question 1')"
      ]
     },
     "execution_count": 21,
     "metadata": {},
     "output_type": "execute_result"
    },
    {
     "data": {
      "image/png": "[encoded data removed]",
      "text/plain": [
       "<Figure size 640x480 with 1 Axes>"
      ]
     },
     "metadata": {},
     "output_type": "display_data"
    }
   ],
   "source": [
    "plt.scatter(time,y)\n",
    "plt.plot(time, a*time**2+b*time+c)\n",
    "plt.plot(time, y, linestyle='-', color='blue', label='lines')\n",
    "plt.errorbar(time, a*time**2+b*time+c, yerr=e)\n",
    "plt.title(\"Data in Question 1\")"
   ]
  },
  {
   "cell_type": "markdown",
   "id": "4efdbcc7",
   "metadata": {},
   "source": [
    "### Now, we must estimate the value of y(t=12) we can predict this through $prob(y_{12}|\\beta) = \\delta([1, 12, 12^2] \\hat\\beta - y(12))$ but we don't know the actual value of y(t=12) \n",
    "\n",
    "### We integrate out sigma using the posterior: \n",
    "\n",
    "$prob(\\vec{\\beta} | data) = \\int_0^{\\infty}d\\sigma prob(\\vec{\\beta}, \\sigma | data) \\propto [\\nu + (\\vec{\\beta} - \\hat\\beta)^{T} \\matrix{H}(\\vec{\\beta} - \\hat\\beta)]^{-N/2}$\n",
    "\n",
    "### $prob(y(12)|data) = \\int_{-\\infty}^{\\infty} \\int_{-\\infty}^{\\infty} \\int_{-\\infty}^{\\infty} da db dc ((\\delta(y(12)) - \\matrix{A}\\vec{\\beta})[\\nu + (\\vec{\\beta} - \\hat\\beta)^{T} \\matrix{H}(\\vec{\\beta} - \\hat\\beta)]^{-N/2}$\n",
    "\n",
    "where $\\nu = N-k, H=\\frac{\\matrix{A}^T\\matrix{A}}{S^2}$"
   ]
  },
  {
   "cell_type": "code",
   "execution_count": 22,
   "id": "20698d58",
   "metadata": {},
   "outputs": [],
   "source": [
    "#predict the value for y(12)\n",
    "\n",
    "t_12=12\n",
    "A_12 = [1, t_12, t_12**2]\n",
    "\n",
    "y_12 = A_12 @ beta_hat"
   ]
  },
  {
   "cell_type": "code",
   "execution_count": 23,
   "id": "b68f670f",
   "metadata": {},
   "outputs": [
    {
     "name": "stdout",
     "output_type": "stream",
     "text": [
      "Estimated value for y at time=12 is 15.270772727272746\n"
     ]
    }
   ],
   "source": [
    "print(\"Estimated value for y at time=12 is\", y_12)"
   ]
  },
  {
   "cell_type": "markdown",
   "id": "fb84d6a9",
   "metadata": {},
   "source": [
    "### Next we want to calculate the variance and standard error of the prediction for y(t=12)\n"
   ]
  },
  {
   "cell_type": "code",
   "execution_count": 56,
   "id": "0923231a",
   "metadata": {},
   "outputs": [],
   "source": [
    "#variance of the prediction for t=12\n",
    "\n",
    "N = 10\n",
    "k = 3\n",
    "nu = N-k\n",
    "\n",
    "s_squared = (np.transpose(y-A @ beta_hat) @ (y-A@beta_hat))/nu\n",
    "\n",
    "AtA = np.transpose(A) @ A\n",
    "\n",
    "H_matrix = s_squared * AtA\n",
    "\n",
    "covariance_mat = np.linalg.inv(H_matrix)\n",
    "\n",
    "#variance prediction of y(12)\n",
    "\n",
    "var_pred_y12 = A_12 @ covariance_mat @ np.transpose(A_12)\n",
    "std_pred_y12 = np.sqrt(var_pred_y12)"
   ]
  },
  {
   "cell_type": "code",
   "execution_count": 58,
   "id": "56ab8006",
   "metadata": {},
   "outputs": [
    {
     "data": {
      "text/plain": [
       "1.647620443623523"
      ]
     },
     "execution_count": 58,
     "metadata": {},
     "output_type": "execute_result"
    }
   ],
   "source": [
    "std_pred_y12"
   ]
  },
  {
   "cell_type": "code",
   "execution_count": 57,
   "id": "1f36707f",
   "metadata": {},
   "outputs": [
    {
     "data": {
      "text/plain": [
       "array([[ 1.34044257, -0.50872218,  0.04037478],\n",
       "       [-0.50872218,  0.23380666, -0.02018739],\n",
       "       [ 0.04037478, -0.02018739,  0.00183522]])"
      ]
     },
     "execution_count": 57,
     "metadata": {},
     "output_type": "execute_result"
    }
   ],
   "source": [
    "covariance_mat"
   ]
  },
  {
   "cell_type": "markdown",
   "id": "dd38836f",
   "metadata": {},
   "source": [
    "### So, I got an estimated value of $y(t=12) \\sim 15.27$ with standard deviation of $\\sigma \\sim 1.648$"
   ]
  }
 ],
 "metadata": {
  "kernelspec": {
   "display_name": "Python 3 (ipykernel)",
   "language": "python",
   "name": "python3"
  },
  "language_info": {
   "codemirror_mode": {
    "name": "ipython",
    "version": 3
   },
   "file_extension": ".py",
   "mimetype": "text/x-python",
   "name": "python",
   "nbconvert_exporter": "python",
   "pygments_lexer": "ipython3",
   "version": "3.11.5"
  }
 },
 "nbformat": 4,
 "nbformat_minor": 5
}
